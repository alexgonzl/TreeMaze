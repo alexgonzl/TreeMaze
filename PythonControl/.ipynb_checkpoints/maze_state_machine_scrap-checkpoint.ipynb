{
 "cells": [
  {
   "cell_type": "code",
   "execution_count": 1,
   "metadata": {
    "collapsed": true
   },
   "outputs": [],
   "source": [
    "from transitions import Machine, State\n",
    "\n",
    "import random\n",
    "import numpy as np\n",
    "from collections import Counter"
   ]
  },
  {
   "cell_type": "code",
   "execution_count": 2,
   "metadata": {
    "collapsed": false
   },
   "outputs": [],
   "source": [
    "class TrialSeq(object):\n",
    "    def __init__(self,N):    \n",
    "        _CueTypes = [5,6]\n",
    "        _nCueTypes = len(_CueTypes)\n",
    "        _GoalIDs = [3,4,5,6]\n",
    "        _GoalIDsByCue = {5:[3,4],6:[5,6]}\n",
    "        _nGoalsByCue = {k: len(v) for k, v in _GoalIDsByCue.items()}\n",
    "        \n",
    "        # increase N if not divisible by number of conditions \n",
    "        _nConds = 4\n",
    "        while N%_nConds != 0:\n",
    "            N = N+1\n",
    "        \n",
    "        # seq refers to the cue sequence, indicating trial type.\n",
    "        _nTrialsPerCue = int(N/_nCueTypes)\n",
    "        _seq = _CueTypes*_nTrialsPerCue # create sequence of length N for CueTypes\n",
    "        _seq = np.array(np.random.permutation(_seq))\n",
    "        \n",
    "        # assign goal to cues  \n",
    "        _GoalSeq = np.zeros(N)-1 \n",
    "        for cue in _CueTypes: \n",
    "            _sublist = _seq==cue\n",
    "            _nTrialsPerCueGoal = int(_nTrialsPerCue/_nGoalsByCue[cue])\n",
    "            _cuegoalseq = np.array(_GoalIDsByCue[cue]*_nTrialsPerCueGoal)\n",
    "            _cuegoalseq = np.random.permutation(_cuegoalseq)\n",
    "            _GoalSeq[_sublist] = _cuegoalseq\n",
    "\n",
    "        # another implementation of goal allocation, no restrain for # of goal\n",
    "#         for ii in range(N):\n",
    "#             for jj in _CueTypes:\n",
    "#                 rr = random.random(): \n",
    "#                 for kk in range(_GoalIDsByCue[jj]):\n",
    "#                     if rr < (kk+1)*(1/_nGoalsByCue[jj]):\n",
    "#                         self.GoalSeq[ii] = _GoalIDsByCue[jj][kk]\n",
    "#                         break\n",
    "        # del temp variables\n",
    "        del _sublist, _cuegoalseq\n",
    "        \n",
    "        # visible variables\n",
    "        self.N = N\n",
    "        self.CueSeq = _seq\n",
    "        self.GoalSeq = _GoalSeq.astype(int)\n",
    "        self.CueIDs = _CueTypes\n",
    "        self.GoalIDsByCue = _GoalIDsByCue\n",
    "        self.CurrentTrial = 0\n",
    "        \n",
    "    def CueID(self):\n",
    "        return self.CueSeq[self.CurrentTrial] \n",
    "    def GoalID(self):\n",
    "        return self.GoalSeq[self.CurrentTrial] \n",
    "    def NextTrial(self):\n",
    "        self.CurrentTrial = self.CurrentTrial + 1\n",
    "    \n",
    "    def SeqCounts(self):\n",
    "        print(\"Number of trials = \", self.N)\n",
    "        print(\"Trial Cue Counts: \")\n",
    "        print(Counter(self.CueSeq))\n",
    "        print(\"Trial Goal Counts: \")\n",
    "        print(Counter(self.GoalSeq))\n",
    "    "
   ]
  },
  {
   "cell_type": "code",
   "execution_count": 12,
   "metadata": {
    "collapsed": false
   },
   "outputs": [
    {
     "data": {
      "text/plain": [
       "array([6, 5, 5, 4, 6, 4, 5, 6, 3, 5, 4, 4, 6, 5, 4, 5, 4, 6, 4, 3, 4, 5, 6,\n",
       "       5, 6, 6, 4, 6, 6, 5, 3, 4, 3, 5, 3, 4, 3, 6, 6, 3, 5, 3, 5, 4, 6, 5,\n",
       "       4, 6, 4, 5, 3, 6, 6, 3, 5, 3, 5, 4, 5, 3, 6, 6, 6, 3, 4, 6, 5, 4, 4,\n",
       "       4, 5, 5, 6, 3, 6, 6, 6, 4, 5, 6, 4, 6, 4, 5, 6, 5, 6, 5, 5, 4, 6, 4,\n",
       "       3, 3, 4, 5, 4, 4, 5, 4, 6, 4, 3, 3, 3, 4, 5, 3, 3, 3, 6, 5, 5, 4, 6,\n",
       "       6, 3, 4, 6, 4, 5, 3, 3, 4, 4, 4, 4, 3, 3, 5, 4, 3, 5, 3, 3, 3, 3, 6,\n",
       "       4, 3, 5, 4, 4, 4, 5, 3, 5, 5, 4, 3, 5, 4, 3, 6, 6, 4, 4, 3, 5, 3, 6,\n",
       "       5, 4, 5, 6, 6, 5, 6, 5, 5, 4, 5, 3, 3, 3, 3, 3, 6, 3, 4, 5, 5, 3, 4,\n",
       "       4, 6, 3, 6, 5, 4, 5, 3, 3, 4, 3, 4, 5, 6, 6, 4, 6, 5, 4, 5, 3, 6, 6,\n",
       "       5, 6, 4, 3, 4, 5, 4, 4, 3, 3, 6, 5, 4, 6, 5, 6, 5, 6, 4, 4, 3, 3, 3,\n",
       "       5, 3, 6, 6, 6, 3, 5, 6, 6, 3, 3, 6, 6, 5, 5, 4, 3, 5, 4, 5, 5, 5, 3,\n",
       "       4, 3, 4, 6, 3, 4, 6, 6, 5, 6, 6, 3, 4, 3, 4, 3, 6, 3, 5, 5, 6, 6, 4,\n",
       "       5, 5, 3, 6, 5, 5, 6, 4, 3, 3, 5, 4, 3, 6, 3, 6, 6, 4, 3, 4, 5, 3, 5,\n",
       "       5, 6, 6, 4, 3])"
      ]
     },
     "execution_count": 12,
     "metadata": {},
     "output_type": "execute_result"
    }
   ],
   "source": [
    "ts = TrialSeq(303)\n",
    "ts.GoalSeq"
   ]
  },
  {
   "cell_type": "code",
   "execution_count": 2,
   "metadata": {
    "collapsed": false
   },
   "outputs": [],
   "source": [
    "class Maze(object):\n",
    "    nWells = 6\n",
    "    nCues = 6\n",
    "    def __init__(self):\n",
    "        self.Act_Well = np.zeros(self.nWells,dtype=bool)\n",
    "        self.PrevAct_Well = np.zeros(self.nWells,dtype=bool)\n",
    "        self.Act_Cue  = 0\n",
    "        self.DetectedWellNum = 0\n",
    "        self.WellDetectSeq = []\n",
    "        self.ValidWellDetectSeq = []\n",
    "        self.StateChangeFlag = 0\n",
    "        \n",
    "    def activate_cue(self):\n",
    "        # send command to activate relevant cue\n",
    "        #self.Act_Cue\n",
    "        pass\n",
    "    def inactivate_cue(self):\n",
    "        # send command to inactivate cue\n",
    "        self.Act_Cue = 0\n",
    "\n",
    "    def activate_well(self,well):\n",
    "        if self.Act_Well[well]:\n",
    "            print('activated well', well+1)\n",
    "            #send command to arduino\n",
    "            \n",
    "    def detect(self,well):\n",
    "        #well = event.kwargs.get('well',0)\n",
    "        well = well-1 # zero indexing the wells\n",
    "        self.DetectedWellNum = well\n",
    "        self.WellDetectSeq.append(well+1)\n",
    "        if self.Act_Well[well]==True:\n",
    "            self.Act_Well[well]=False\n",
    "            self.ValidWellDetectSeq.append(well+1)\n",
    "        \n",
    "            \n",
    "    def update_states(self):\n",
    "        well = int(self.state[2:])\n",
    "        self.PrevAct_Well = np.array(self.Act_Well)\n",
    "        \n",
    "        if (well==99): #activate all\n",
    "            if all(self.Act_Well)==False:\n",
    "                self.Act_Well[:] = True\n",
    "        elif (well>=1 and well<=6):\n",
    "            if self.Act_Well[well-1] == False:\n",
    "                self.Act_Well[well-1] = True\n",
    "        elif (well==34):\n",
    "            if (self.Act_Well[2]==False):\n",
    "                self.Act_Well[2]=True\n",
    "            if (self.Act_Well[3]==False):\n",
    "                self.Act_Well[3]=True\n",
    "        elif (well==56):\n",
    "            if (self.Act_Well[4]==False):\n",
    "                self.Act_Well[4]=True\n",
    "            if (self.Act_Well[5]==False):\n",
    "                self.Act_Well[5]=True\n",
    "        else: # inactivate all\n",
    "            if any(self.Act_Well)==True:\n",
    "                self.Act_Well[:] = False\n",
    "        \n",
    "        change_wells = np.array((self.PrevAct_Well != self.Act_Well).nonzero()).flatten()\n",
    "        for ii in change_wells: \n",
    "            self.activate_well(ii)\n",
    "\n",
    "\n",
    "    def next_trial(self):\n",
    "        pass\n",
    "    def G34(self):\n",
    "        if self.Act_Cue==5:\n",
    "            return True\n",
    "        return False\n",
    "    def G56(self):\n",
    "        if self.Act_Cue==6:\n",
    "            return True\n",
    "        return False\n",
    "    def G3(self):\n",
    "        pass\n",
    "        # if sequence.goal(current trial) == 3\n",
    "        # return true\n",
    "    def G4(self): pass\n",
    "    def G5(self): pass\n",
    "    def G6(self): pass\n",
    "    \n",
    "        "
   ]
  },
  {
   "cell_type": "code",
   "execution_count": 28,
   "metadata": {
    "collapsed": false
   },
   "outputs": [],
   "source": [
    "N = 100;\n",
    "\n",
    "GoalSeq = []\n",
    "\n",
    "RightCues = [1,2,5]\n",
    "LeftCues  = [3,4,6]  \n",
    "\n",
    "trialTypes = ['']\n",
    "states = [State(name='AW0',on_enter=['inactivate_cue'],ignore_invalid_triggers=True),\n",
    "          State(name='AW1',on_enter='next_trial',on_exit=['activate_cue'],ignore_invalid_triggers=True),\n",
    "          State(name='AW2',ignore_invalid_triggers=True),\n",
    "          State(name='AW3',ignore_invalid_triggers=True),\n",
    "          State(name='AW4',ignore_invalid_triggers=True),\n",
    "          State(name='AW5',ignore_invalid_triggers=True),\n",
    "          State(name='AW6',ignore_invalid_triggers=True),\n",
    "          State(name='AW34',ignore_invalid_triggers=True),\n",
    "          State(name='AW56',ignore_invalid_triggers=True)\n",
    "         ]\n",
    "\n",
    "conditions = ['G3','G4','G5','G6','G34','G56']\n",
    "transitions = [ \n",
    "    {'trigger':'D1','source':'AW1','dest':'AW2'},\n",
    "    {'trigger':'D2','source':'AW2','dest':'AW34', 'conditions':'G34','after':'inactivate_cue'},\n",
    "    {'trigger':'D2','source':'AW2','dest':'AW56', 'conditions':'G56','after':'inactivate_cue'},\n",
    "    {'trigger':'D2','source':'AW2','dest':'AW0'},\n",
    "    \n",
    "    {'trigger':'D3','source':'AW34','dest':'AW4'},\n",
    "    {'trigger':'D3','source':'AW3','dest':'AW1'},\n",
    "    {'trigger':'D4','source':'AW34','dest':'AW3'},\n",
    "    {'trigger':'D4','source':'AW4','dest':'AW1'},\n",
    "\n",
    "    {'trigger':'D5','source':'AW5','dest':'AW1'},\n",
    "    {'trigger':'D5','source':'AW56','dest':'AW6'},\n",
    "    {'trigger':'D6','source':'AW6','dest':'AW1'},\n",
    "    {'trigger':'D6','source':'AW56','dest':'AW5'},\n",
    "\n",
    "    {'trigger':'stop','source':'*','dest':'AW0'}]\n"
   ]
  },
  {
   "cell_type": "code",
   "execution_count": 55,
   "metadata": {
    "collapsed": false
   },
   "outputs": [
    {
     "name": "stdout",
     "output_type": "stream",
     "text": [
      "activated well 1\n",
      "AW1\n",
      "activated well 2\n",
      "AW2\n",
      "activated well 3\n",
      "activated well 4\n",
      "AW34\n",
      "AW4\n",
      "activated well 1\n",
      "AW1\n",
      "activated well 2\n",
      "AW2\n",
      "AW0\n",
      "AW0\n",
      "AW0\n",
      "AW0\n",
      "AW0\n",
      "AW0\n",
      "AW0\n"
     ]
    }
   ],
   "source": [
    "MS = Maze()\n",
    "machine = Machine(MS,states,transitions=transitions, ignore_invalid_triggers=True ,initial='AW0',\n",
    "           after_state_change='update_states')\n",
    "\n",
    "# list of detections\n",
    "dlist = [1,2,3,4,1,2,4,3,1,2,3,5,6]\n",
    "goals = [1,2,3,4,5,6]\n",
    "cuelist = [5,5,6,6,5,6]\n",
    "detect_callback = []\n",
    "MS.Act_Cue=5\n",
    "for ii in goals:\n",
    "    detect_callback.append(getattr(MS,'D'+str(ii)))\n",
    "\n",
    "\n",
    "MS.to_AW1()\n",
    "trialcount =0\n",
    "for ii in dlist:\n",
    "    print(MS.state)\n",
    "    if ii==1 and MS.state==1:\n",
    "        MS.activate_cue=cuelist(trialcount)\n",
    "        trialcount=trialcount+1\n",
    "    MS.detect(ii)\n",
    "    detect_callback[ii-1]()\n",
    "    "
   ]
  },
  {
   "cell_type": "code",
   "execution_count": 54,
   "metadata": {
    "collapsed": false
   },
   "outputs": [
    {
     "name": "stdout",
     "output_type": "stream",
     "text": [
      "Help on partial object:\n",
      "\n",
      "class partial(builtins.object)\n",
      " |  partial(func, *args, **keywords) - new function with partial application\n",
      " |  of the given arguments and keywords.\n",
      " |  \n",
      " |  Methods defined here:\n",
      " |  \n",
      " |  __call__(self, /, *args, **kwargs)\n",
      " |      Call self as a function.\n",
      " |  \n",
      " |  __delattr__(self, name, /)\n",
      " |      Implement delattr(self, name).\n",
      " |  \n",
      " |  __getattribute__(self, name, /)\n",
      " |      Return getattr(self, name).\n",
      " |  \n",
      " |  __new__(*args, **kwargs) from builtins.type\n",
      " |      Create and return a new object.  See help(type) for accurate signature.\n",
      " |  \n",
      " |  __reduce__(...)\n",
      " |      helper for pickle\n",
      " |  \n",
      " |  __repr__(self, /)\n",
      " |      Return repr(self).\n",
      " |  \n",
      " |  __setattr__(self, name, value, /)\n",
      " |      Implement setattr(self, name, value).\n",
      " |  \n",
      " |  __setstate__(...)\n",
      " |  \n",
      " |  ----------------------------------------------------------------------\n",
      " |  Data descriptors defined here:\n",
      " |  \n",
      " |  __dict__\n",
      " |  \n",
      " |  args\n",
      " |      tuple of arguments to future partial calls\n",
      " |  \n",
      " |  func\n",
      " |      function object to use in future partial calls\n",
      " |  \n",
      " |  keywords\n",
      " |      dictionary of keyword arguments to future partial calls\n",
      "\n"
     ]
    }
   ],
   "source": [
    "help(MS.trigger)"
   ]
  },
  {
   "cell_type": "code",
   "execution_count": 34,
   "metadata": {
    "collapsed": false
   },
   "outputs": [],
   "source": [
    "\n",
    "\n",
    "# thread 1\n",
    "# gets arduino data\n",
    "# runs continouesly, no printing to command line\n",
    "# writes events codes and timing to text file\n",
    "\n",
    "# thread 2\n",
    "# get user input data\n",
    "# if there is user input trigger a flag\n",
    "# store user commands\n",
    "\n",
    "# thread 3\n",
    "# ongoing loop getting detect events from GPIO\n",
    "# act on user inputs, if any (checks input flag), turn off flag\n",
    "# x = dected well\n",
    "# f=getattr(machine,'D'+str(x));\n",
    "# f(x); triggers the transition and passes which well was detected.\n",
    "\n"
   ]
  },
  {
   "cell_type": "code",
   "execution_count": 36,
   "metadata": {
    "collapsed": false
   },
   "outputs": [
    {
     "data": {
      "text/plain": [
       "[functools.partial(<bound method Event.trigger of <Event('D1')@1700805775768>>, <__main__.Maze object at 0x0000018BFFE9B390>),\n",
       " functools.partial(<bound method Event.trigger of <Event('D2')@1700805775824>>, <__main__.Maze object at 0x0000018BFFE9B390>),\n",
       " functools.partial(<bound method Event.trigger of <Event('D3')@1700805775936>>, <__main__.Maze object at 0x0000018BFFE9B390>),\n",
       " functools.partial(<bound method Event.trigger of <Event('D1')@1700805775768>>, <__main__.Maze object at 0x0000018BFFE9B390>),\n",
       " functools.partial(<bound method Event.trigger of <Event('D2')@1700805775824>>, <__main__.Maze object at 0x0000018BFFE9B390>),\n",
       " functools.partial(<bound method Event.trigger of <Event('D4')@1700805776272>>, <__main__.Maze object at 0x0000018BFFE9B390>),\n",
       " functools.partial(<bound method Event.trigger of <Event('D1')@1700805775768>>, <__main__.Maze object at 0x0000018BFFE9B390>),\n",
       " functools.partial(<bound method Event.trigger of <Event('D2')@1700805775824>>, <__main__.Maze object at 0x0000018BFFE9B390>),\n",
       " functools.partial(<bound method Event.trigger of <Event('D3')@1700805775936>>, <__main__.Maze object at 0x0000018BFFE9B390>)]"
      ]
     },
     "execution_count": 36,
     "metadata": {},
     "output_type": "execute_result"
    }
   ],
   "source": [
    "\n"
   ]
  },
  {
   "cell_type": "code",
   "execution_count": 38,
   "metadata": {
    "collapsed": false
   },
   "outputs": [
    {
     "data": {
      "text/plain": [
       "False"
      ]
     },
     "execution_count": 38,
     "metadata": {},
     "output_type": "execute_result"
    }
   ],
   "source": []
  }
 ],
 "metadata": {
  "kernelspec": {
   "display_name": "Python 3",
   "language": "python",
   "name": "python3"
  },
  "language_info": {
   "codemirror_mode": {
    "name": "ipython",
    "version": 3
   },
   "file_extension": ".py",
   "mimetype": "text/x-python",
   "name": "python",
   "nbconvert_exporter": "python",
   "pygments_lexer": "ipython3",
   "version": "3.6.0"
  }
 },
 "nbformat": 4,
 "nbformat_minor": 2
}
