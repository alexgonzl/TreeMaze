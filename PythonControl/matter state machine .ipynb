{
 "cells": [
  {
   "cell_type": "code",
   "execution_count": 1,
   "metadata": {
    "collapsed": true
   },
   "outputs": [],
   "source": [
    "class Matter(object):\n",
    "    pass\n",
    "\n",
    "lump = Matter()"
   ]
  },
  {
   "cell_type": "code",
   "execution_count": 21,
   "metadata": {
    "collapsed": false
   },
   "outputs": [],
   "source": [
    "from transitions import Machine, State\n"
   ]
  },
  {
   "cell_type": "code",
   "execution_count": 9,
   "metadata": {
    "collapsed": true
   },
   "outputs": [],
   "source": [
    "states = ['solid','liquid','gas','plasma']\n",
    "transitions = [\n",
    "    { 'trigger': 'melt', 'source': 'solid', 'dest': 'liquid' },\n",
    "    { 'trigger': 'evaporate', 'source': 'liquid', 'dest': 'gas' },\n",
    "    { 'trigger': 'sublimate', 'source': 'solid', 'dest': 'gas' },\n",
    "    { 'trigger': 'ionize', 'source': 'gas', 'dest': 'plasma' }\n",
    "]"
   ]
  },
  {
   "cell_type": "code",
   "execution_count": 19,
   "metadata": {
    "collapsed": false
   },
   "outputs": [
    {
     "name": "stdout",
     "output_type": "stream",
     "text": [
      "liquid\n",
      "gas\n",
      "plasma\n"
     ]
    }
   ],
   "source": [
    "machine = Machine(model = lump, states = states, transitions=transitions, initial='liquid')\n",
    "print (lump.state)\n",
    "lump.evaporate()\n",
    "print (lump.state)\n",
    "lump.ionize()\n",
    "print (lump.state)"
   ]
  },
  {
   "cell_type": "code",
   "execution_count": 22,
   "metadata": {
    "collapsed": false
   },
   "outputs": [
    {
     "name": "stdout",
     "output_type": "stream",
     "text": [
      "goodbye, old state!\n",
      "hello, new state!\n"
     ]
    },
    {
     "data": {
      "text/plain": [
       "True"
      ]
     },
     "execution_count": 22,
     "metadata": {},
     "output_type": "execute_result"
    }
   ],
   "source": [
    "class Matter(object):\n",
    "    def say_hello(self): \n",
    "        print(\"hello, new state!\")\n",
    "    def say_goodbye(self): \n",
    "        print(\"goodbye, old state!\")\n",
    "        \n",
    "lump = Matter()\n",
    "\n",
    "states = [\n",
    "    State(name='solid', on_exit=['say_goodbye']),\n",
    "    'liquid',\n",
    "    { 'name': 'gas' }\n",
    "    ]\n",
    "\n",
    "machine = Machine(lump, states=states)\n",
    "machine.add_transition('sublimate', 'solid', 'gas')\n",
    "\n",
    "machine.on_enter_gas('say_hello')\n",
    "machine.set_state('solid')\n",
    "lump.sublimate()"
   ]
  }
 ],
 "metadata": {
  "kernelspec": {
   "display_name": "Python 3",
   "language": "python",
   "name": "python3"
  },
  "language_info": {
   "codemirror_mode": {
    "name": "ipython",
    "version": 3
   },
   "file_extension": ".py",
   "mimetype": "text/x-python",
   "name": "python",
   "nbconvert_exporter": "python",
   "pygments_lexer": "ipython3",
   "version": "3.6.0"
  }
 },
 "nbformat": 4,
 "nbformat_minor": 2
}
